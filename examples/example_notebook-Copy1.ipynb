{
 "cells": [
  {
   "cell_type": "markdown",
   "metadata": {},
   "source": [
    "# Gmail Pandas Manager Example Notebook\n",
    "\n",
    "In this notebook, we will demonstrate how to use the Gmail Pandas Manager to fetch, move, and delete emails using pandas DataFrames."
   ]
  },
  {
   "cell_type": "code",
   "execution_count": 1,
   "metadata": {},
   "outputs": [],
   "source": [
    "import sys\n",
    "sys.path.insert(0, '../gmail_pandas_manager') # add the parent directory to sys.path\n",
    "\n",
    "from gmail_manager import GmailManager\n",
    "import pandas as pd\n",
    "pd.set_option('display.max_columns', None)\n",
    "labels = {\n",
    "    1: 'High Priority',\n",
    "    2: 'Ignore',\n",
    "    3: 'Security Notifications',\n",
    "    4: 'Confirmations'\n",
    "}"
   ]
  },
  {
   "cell_type": "markdown",
   "metadata": {},
   "source": [
    "## Fetch Emails"
   ]
  },
  {
   "cell_type": "code",
   "execution_count": 2,
   "metadata": {},
   "outputs": [],
   "source": [
    "gm = GmailManager()\n",
    "df = gm.fetch_emails()\n",
    "df = df[~df['labels'].str.contains(r'[a-z]')]"
   ]
  },
  {
   "cell_type": "code",
   "execution_count": 3,
   "metadata": {},
   "outputs": [],
   "source": [
    "tmp = df[df[\"from\"].str.contains(\"Men's Wearhouse\")].copy()"
   ]
  },
  {
   "cell_type": "code",
   "execution_count": 4,
   "metadata": {},
   "outputs": [
    {
     "data": {
      "text/html": [
       "<div>\n",
       "<style scoped>\n",
       "    .dataframe tbody tr th:only-of-type {\n",
       "        vertical-align: middle;\n",
       "    }\n",
       "\n",
       "    .dataframe tbody tr th {\n",
       "        vertical-align: top;\n",
       "    }\n",
       "\n",
       "    .dataframe thead th {\n",
       "        text-align: right;\n",
       "    }\n",
       "</style>\n",
       "<table border=\"1\" class=\"dataframe\">\n",
       "  <thead>\n",
       "    <tr style=\"text-align: right;\">\n",
       "      <th></th>\n",
       "      <th>id</th>\n",
       "      <th>subject</th>\n",
       "      <th>date</th>\n",
       "      <th>from</th>\n",
       "      <th>labels</th>\n",
       "    </tr>\n",
       "  </thead>\n",
       "  <tbody>\n",
       "    <tr>\n",
       "      <th>0</th>\n",
       "      <td>18810548555ec7cd</td>\n",
       "      <td>ALL. NEW. ARRIVALS.</td>\n",
       "      <td>12 May 2023 13:58:51 +0000</td>\n",
       "      <td>\"Men's Wearhouse\" &lt;menswearhouse@e.menswearhou...</td>\n",
       "      <td>CATEGORY_PROMOTIONS; UNREAD; INBOX</td>\n",
       "    </tr>\n",
       "    <tr>\n",
       "      <th>3</th>\n",
       "      <td>1880cea82efc803b</td>\n",
       "      <td>Shop everyday staples &amp; earn MW money on purch...</td>\n",
       "      <td>11 May 2023 22:13:26 +0000</td>\n",
       "      <td>\"Men's Wearhouse\" &lt;menswearhouse@e.menswearhou...</td>\n",
       "      <td>CATEGORY_PROMOTIONS; UNREAD; INBOX</td>\n",
       "    </tr>\n",
       "    <tr>\n",
       "      <th>9</th>\n",
       "      <td>188062332682859f</td>\n",
       "      <td>Shop online to save BIG during our Flash Sale!</td>\n",
       "      <td>10 May 2023 14:10:09 +0000</td>\n",
       "      <td>\"Men's Wearhouse\" &lt;menswearhouse@e.menswearhou...</td>\n",
       "      <td>CATEGORY_PROMOTIONS; UNREAD; INBOX</td>\n",
       "    </tr>\n",
       "    <tr>\n",
       "      <th>11</th>\n",
       "      <td>188010ca849f8f46</td>\n",
       "      <td>Hurry! 2-day sale starts today!</td>\n",
       "      <td>9 May 2023 14:35:11 +0000</td>\n",
       "      <td>\"Men's Wearhouse\" &lt;menswearhouse@e.menswearhou...</td>\n",
       "      <td>CATEGORY_PROMOTIONS; UNREAD; INBOX</td>\n",
       "    </tr>\n",
       "    <tr>\n",
       "      <th>13</th>\n",
       "      <td>187fbcaa1a9e9c97</td>\n",
       "      <td>Get ready…</td>\n",
       "      <td>8 May 2023 14:25:39 +0000</td>\n",
       "      <td>\"Men's Wearhouse\" &lt;menswearhouse@e.menswearhou...</td>\n",
       "      <td>CATEGORY_PROMOTIONS; UNREAD; INBOX</td>\n",
       "    </tr>\n",
       "    <tr>\n",
       "      <th>16</th>\n",
       "      <td>187f6baf9e184a85</td>\n",
       "      <td>FINAL day to shop to snag these deals</td>\n",
       "      <td>7 May 2023 14:25:34 +0000</td>\n",
       "      <td>\"Men's Wearhouse\" &lt;menswearhouse@e.menswearhou...</td>\n",
       "      <td>CATEGORY_PROMOTIONS; UNREAD; INBOX</td>\n",
       "    </tr>\n",
       "    <tr>\n",
       "      <th>90</th>\n",
       "      <td>1875741c484d1a4f</td>\n",
       "      <td>Reminder: Please share your feedback - 5 Minutes</td>\n",
       "      <td>Thu, 6 Apr 2023 08:48:57 -0700 (PDT)</td>\n",
       "      <td>\"Men's Wearhouse Customer Experience Team\" &lt;ta...</td>\n",
       "      <td>UNREAD; CATEGORY_UPDATES; INBOX</td>\n",
       "    </tr>\n",
       "    <tr>\n",
       "      <th>101</th>\n",
       "      <td>18742a7b40ce9703</td>\n",
       "      <td>How was your experience with Men's Wearhouse?</td>\n",
       "      <td>Sun, 2 Apr 2023 08:48:16 -0700 (PDT)</td>\n",
       "      <td>\"Men's Wearhouse Customer Experience Team\" &lt;ta...</td>\n",
       "      <td>UNREAD; CATEGORY_UPDATES; INBOX</td>\n",
       "    </tr>\n",
       "  </tbody>\n",
       "</table>\n",
       "</div>"
      ],
      "text/plain": [
       "                   id                                            subject  \\\n",
       "0    18810548555ec7cd                                ALL. NEW. ARRIVALS.   \n",
       "3    1880cea82efc803b  Shop everyday staples & earn MW money on purch...   \n",
       "9    188062332682859f     Shop online to save BIG during our Flash Sale!   \n",
       "11   188010ca849f8f46                    Hurry! 2-day sale starts today!   \n",
       "13   187fbcaa1a9e9c97                                         Get ready…   \n",
       "16   187f6baf9e184a85              FINAL day to shop to snag these deals   \n",
       "90   1875741c484d1a4f   Reminder: Please share your feedback - 5 Minutes   \n",
       "101  18742a7b40ce9703      How was your experience with Men's Wearhouse?   \n",
       "\n",
       "                                     date  \\\n",
       "0              12 May 2023 13:58:51 +0000   \n",
       "3              11 May 2023 22:13:26 +0000   \n",
       "9              10 May 2023 14:10:09 +0000   \n",
       "11              9 May 2023 14:35:11 +0000   \n",
       "13              8 May 2023 14:25:39 +0000   \n",
       "16              7 May 2023 14:25:34 +0000   \n",
       "90   Thu, 6 Apr 2023 08:48:57 -0700 (PDT)   \n",
       "101  Sun, 2 Apr 2023 08:48:16 -0700 (PDT)   \n",
       "\n",
       "                                                  from  \\\n",
       "0    \"Men's Wearhouse\" <menswearhouse@e.menswearhou...   \n",
       "3    \"Men's Wearhouse\" <menswearhouse@e.menswearhou...   \n",
       "9    \"Men's Wearhouse\" <menswearhouse@e.menswearhou...   \n",
       "11   \"Men's Wearhouse\" <menswearhouse@e.menswearhou...   \n",
       "13   \"Men's Wearhouse\" <menswearhouse@e.menswearhou...   \n",
       "16   \"Men's Wearhouse\" <menswearhouse@e.menswearhou...   \n",
       "90   \"Men's Wearhouse Customer Experience Team\" <ta...   \n",
       "101  \"Men's Wearhouse Customer Experience Team\" <ta...   \n",
       "\n",
       "                                 labels  \n",
       "0    CATEGORY_PROMOTIONS; UNREAD; INBOX  \n",
       "3    CATEGORY_PROMOTIONS; UNREAD; INBOX  \n",
       "9    CATEGORY_PROMOTIONS; UNREAD; INBOX  \n",
       "11   CATEGORY_PROMOTIONS; UNREAD; INBOX  \n",
       "13   CATEGORY_PROMOTIONS; UNREAD; INBOX  \n",
       "16   CATEGORY_PROMOTIONS; UNREAD; INBOX  \n",
       "90      UNREAD; CATEGORY_UPDATES; INBOX  \n",
       "101     UNREAD; CATEGORY_UPDATES; INBOX  "
      ]
     },
     "execution_count": 4,
     "metadata": {},
     "output_type": "execute_result"
    }
   ],
   "source": [
    "tmp"
   ]
  },
  {
   "cell_type": "markdown",
   "metadata": {},
   "source": [
    "## Combine and Send Message"
   ]
  },
  {
   "cell_type": "code",
   "execution_count": 5,
   "metadata": {},
   "outputs": [
    {
     "name": "stdout",
     "output_type": "stream",
     "text": [
      "Message Id: 188115af1d02c913\n"
     ]
    }
   ],
   "source": [
    "gm.combine_and_forward_emails(tmp, 'xsltlibrary7@protonmail.com')"
   ]
  },
  {
   "cell_type": "code",
   "execution_count": null,
   "metadata": {},
   "outputs": [],
   "source": []
  },
  {
   "cell_type": "markdown",
   "metadata": {},
   "source": [
    "## Move Emails to a Different Folder"
   ]
  },
  {
   "cell_type": "code",
   "execution_count": null,
   "metadata": {},
   "outputs": [],
   "source": [
    "# sub_df = [] Add your sub df to move\n",
    "# gm.move_to_folder(sub_df, labels[1])"
   ]
  },
  {
   "cell_type": "markdown",
   "metadata": {},
   "source": [
    "## Delete Emails"
   ]
  },
  {
   "cell_type": "code",
   "execution_count": null,
   "metadata": {},
   "outputs": [],
   "source": [
    "email_ids_to_delete = ['187f343c5139597d']\n",
    "gm.delete_emails(li)"
   ]
  },
  {
   "cell_type": "code",
   "execution_count": null,
   "metadata": {},
   "outputs": [],
   "source": []
  },
  {
   "cell_type": "code",
   "execution_count": null,
   "metadata": {},
   "outputs": [],
   "source": []
  }
 ],
 "metadata": {
  "kernelspec": {
   "display_name": "openai2",
   "language": "python",
   "name": "openai2"
  },
  "language_info": {
   "codemirror_mode": {
    "name": "ipython",
    "version": 3
   },
   "file_extension": ".py",
   "mimetype": "text/x-python",
   "name": "python",
   "nbconvert_exporter": "python",
   "pygments_lexer": "ipython3",
   "version": "3.9.13"
  }
 },
 "nbformat": 4,
 "nbformat_minor": 4
}
