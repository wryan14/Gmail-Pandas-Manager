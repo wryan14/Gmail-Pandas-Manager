{
 "cells": [
  {
   "cell_type": "markdown",
   "metadata": {},
   "source": [
    "# Gmail Pandas Manager Example Notebook\n",
    "\n",
    "In this notebook, we will demonstrate how to use the Gmail Pandas Manager to fetch, move, and delete emails using pandas DataFrames."
   ]
  },
  {
   "cell_type": "code",
   "execution_count": 1,
   "metadata": {},
   "outputs": [],
   "source": [
    "import sys\n",
    "sys.path.insert(0, '../gmail_pandas_manager') # add the parent directory to sys.path\n",
    "\n",
    "from gmail_manager import GmailManager\n",
    "import pandas as pd\n",
    "pd.set_option('display.max_columns', None)"
   ]
  },
  {
   "cell_type": "markdown",
   "metadata": {},
   "source": [
    "## Fetch Emails"
   ]
  },
  {
   "cell_type": "code",
   "execution_count": 3,
   "metadata": {},
   "outputs": [],
   "source": [
    "gm = GmailManager()\n",
    "df = gm.fetch_emails()\n",
    "df = df[~df['labels'].str.contains(r'[a-z]')]"
   ]
  },
  {
   "cell_type": "code",
   "execution_count": 13,
   "metadata": {},
   "outputs": [],
   "source": [
    "li = df[df['from'].str.contains('DVD Netflix')]['id'].tolist()"
   ]
  },
  {
   "cell_type": "markdown",
   "metadata": {},
   "source": [
    "## Move Emails to a Different Folder"
   ]
  },
  {
   "cell_type": "code",
   "execution_count": 15,
   "metadata": {},
   "outputs": [],
   "source": [
    "labels = {\n",
    "    1: 'Billing',\n",
    "    2: 'Confirmations',\n",
    "    3: 'Dating', \n",
    "    4: 'Other', \n",
    "    5: 'Personal',\n",
    "    6: 'Promotional',\n",
    "    7: 'Security'\n",
    "}\n",
    "\n",
    "email_ids_to_move = li\n",
    "destination_folder = labels[6]\n",
    "\n",
    "gm.move_to_folder(email_ids_to_move, destination_folder)"
   ]
  },
  {
   "cell_type": "markdown",
   "metadata": {},
   "source": [
    "## Delete Emails"
   ]
  },
  {
   "cell_type": "code",
   "execution_count": 14,
   "metadata": {},
   "outputs": [],
   "source": [
    "email_ids_to_delete = ['187f343c5139597d']\n",
    "gm.delete_emails(li)"
   ]
  },
  {
   "cell_type": "code",
   "execution_count": null,
   "metadata": {},
   "outputs": [],
   "source": []
  },
  {
   "cell_type": "code",
   "execution_count": null,
   "metadata": {},
   "outputs": [],
   "source": []
  }
 ],
 "metadata": {
  "kernelspec": {
   "display_name": "openai2",
   "language": "python",
   "name": "openai2"
  },
  "language_info": {
   "codemirror_mode": {
    "name": "ipython",
    "version": 3
   },
   "file_extension": ".py",
   "mimetype": "text/x-python",
   "name": "python",
   "nbconvert_exporter": "python",
   "pygments_lexer": "ipython3",
   "version": "3.9.13"
  }
 },
 "nbformat": 4,
 "nbformat_minor": 4
}
